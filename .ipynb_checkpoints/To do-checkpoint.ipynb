{
 "cells": [
  {
   "cell_type": "code",
   "execution_count": null,
   "id": "75c5c5e0",
   "metadata": {},
   "outputs": [],
   "source": [
    "# Step 1: get replacement player values for each position.\n",
    "# Step 1b: get \"worst players\" (nTeams*nRoster_spots) \n",
    "\n",
    "# Step 2: Create ranking in terms of added EV in a weekly matchup for each player.\n",
    "\n",
    "# Incorporate partial rosters"
   ]
  }
 ],
 "metadata": {
  "kernelspec": {
   "display_name": "Python 3 (ipykernel)",
   "language": "python",
   "name": "python3"
  },
  "language_info": {
   "codemirror_mode": {
    "name": "ipython",
    "version": 3
   },
   "file_extension": ".py",
   "mimetype": "text/x-python",
   "name": "python",
   "nbconvert_exporter": "python",
   "pygments_lexer": "ipython3",
   "version": "3.9.1"
  }
 },
 "nbformat": 4,
 "nbformat_minor": 5
}
